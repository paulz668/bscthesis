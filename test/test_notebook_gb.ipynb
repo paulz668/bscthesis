{
 "cells": [
  {
   "cell_type": "code",
   "execution_count": 27,
   "metadata": {},
   "outputs": [],
   "source": [
    "import pandas as pd\n",
    "from sklearn.ensemble import HistGradientBoostingClassifier, RandomForestClassifier\n",
    "from sklearn import metrics\n",
    "import os"
   ]
  },
  {
   "cell_type": "code",
   "execution_count": 2,
   "metadata": {},
   "outputs": [],
   "source": [
    "cwd = \"C:/Users/paulz/Documents/UNI/BBE/7.Semester/Bachelorarbeit/LOB_DATA/1.NoAuction_Zscore/\""
   ]
  },
  {
   "cell_type": "code",
   "execution_count": 3,
   "metadata": {},
   "outputs": [],
   "source": [
    "df_train = pd.read_csv(cwd + \"Dst_NoAuction_ZScore_Day_1.csv\", header=None)\n",
    "df_test = pd.read_csv(cwd + \"Dst_NoAuction_ZScore_Day_2.csv\", header=None)"
   ]
  },
  {
   "cell_type": "code",
   "execution_count": 4,
   "metadata": {},
   "outputs": [],
   "source": [
    "X_train = df_train.iloc[:, :144]\n",
    "Y_train = df_train.iloc[:, 144]\n",
    "X_test = df_test.iloc[:, :144]\n",
    "Y_test = df_test.iloc[:, 144]"
   ]
  },
  {
   "cell_type": "code",
   "execution_count": 6,
   "metadata": {},
   "outputs": [],
   "source": [
    "gb = HistGradientBoostingClassifier().fit(X_train, Y_train)"
   ]
  },
  {
   "cell_type": "code",
   "execution_count": 7,
   "metadata": {},
   "outputs": [],
   "source": [
    "rf = RandomForestClassifier().fit(X_train, Y_train)"
   ]
  },
  {
   "cell_type": "code",
   "execution_count": 8,
   "metadata": {},
   "outputs": [],
   "source": [
    "Y_pred_gb = gb.predict(X_test)\n",
    "Y_pred_rf = rf.predict(X_test)"
   ]
  },
  {
   "cell_type": "code",
   "execution_count": 28,
   "metadata": {},
   "outputs": [],
   "source": [
    "names = os.listdir(cwd)\n",
    "keys = lambda x: int(x[x.find('_', 21) + 1:].strip('.csv')) \n",
    "names.sort(key=keys)"
   ]
  },
  {
   "cell_type": "code",
   "execution_count": 31,
   "metadata": {},
   "outputs": [],
   "source": [
    "list_df = [pd.read_csv(cwd + x, header=None) for x in names]\n",
    "start = 0\n",
    "end = start + 1"
   ]
  },
  {
   "cell_type": "code",
   "execution_count": 33,
   "metadata": {},
   "outputs": [],
   "source": [
    "f1_gb = [0] * 9\n",
    "accuracy_gb = [0] * 9\n",
    "recall_gb = [0] * 9\n",
    "precision_gb = [0] * 9"
   ]
  },
  {
   "cell_type": "code",
   "execution_count": 34,
   "metadata": {},
   "outputs": [],
   "source": [
    "while end < len(names):\n",
    "    training_df = list_df[start]\n",
    "    test_df = list_df[end]\n",
    "    \n",
    "    X_train = training_df.iloc[:, :144]\n",
    "    Y_train = training_df.iloc[:, 144]\n",
    "    \n",
    "    X_test = test_df.iloc[:, :144]\n",
    "    Y_test = test_df.iloc[:, 144]\n",
    "\n",
    "    gb = HistGradientBoostingClassifier().fit(X_train, Y_train)\n",
    "    Y_pred = gb.predict(X_test)\n",
    "\n",
    "    f1_gb[start] = metrics.f1_score(Y_test, Y_pred, labels=[1.0, 2.0, 3.0], average='macro')\n",
    "    precision_gb[start] = metrics.precision_score(Y_test, Y_pred, labels=[1.0, 2.0, 3.0], average='macro')\n",
    "    recall_gb[start] = metrics.recall_score(Y_test, Y_pred, labels=[1.0, 2.0, 3.0], average='macro')\n",
    "    accuracy_gb[start] = metrics.accuracy_score(Y_test, Y_pred)\n",
    "\n",
    "    start += 1\n",
    "    end += 1"
   ]
  },
  {
   "cell_type": "code",
   "execution_count": 39,
   "metadata": {},
   "outputs": [
    {
     "data": {
      "text/plain": [
       "[0.7761192551094044,\n",
       " 0.384308068634682,\n",
       " 0.34275502250072115,\n",
       " 0.5377194273666813,\n",
       " 0.3243930013610455,\n",
       " 0.3702029168736125,\n",
       " 0.333883026407589,\n",
       " 0.3480629830400801,\n",
       " 0.4315860799121281]"
      ]
     },
     "execution_count": 39,
     "metadata": {},
     "output_type": "execute_result"
    }
   ],
   "source": [
    "f1_gb"
   ]
  },
  {
   "cell_type": "code",
   "execution_count": 40,
   "metadata": {},
   "outputs": [
    {
     "data": {
      "text/plain": [
       "array([[  354,  1782,    46],\n",
       "       [  121, 18512,  8944],\n",
       "       [    4,   483,  1691]], dtype=int64)"
      ]
     },
     "execution_count": 40,
     "metadata": {},
     "output_type": "execute_result"
    }
   ],
   "source": [
    "metrics.confusion_matrix(Y_test, Y_pred, labels=[1.0, 2.0, 3.0])"
   ]
  },
  {
   "cell_type": "code",
   "execution_count": 42,
   "metadata": {},
   "outputs": [
    {
     "data": {
      "text/plain": [
       "array([0.73903967, 0.89098522, 0.15831851])"
      ]
     },
     "execution_count": 42,
     "metadata": {},
     "output_type": "execute_result"
    }
   ],
   "source": [
    "metrics.precision_score(Y_test, Y_pred, labels=[1.0, 2.0, 3.0], average=None)"
   ]
  },
  {
   "cell_type": "code",
   "execution_count": 43,
   "metadata": {},
   "outputs": [],
   "source": [
    "Y_control = gb.predict(X_train)"
   ]
  },
  {
   "cell_type": "code",
   "execution_count": 45,
   "metadata": {},
   "outputs": [
    {
     "data": {
      "text/plain": [
       "array([0.94149444, 0.99214158, 0.94561347])"
      ]
     },
     "execution_count": 45,
     "metadata": {},
     "output_type": "execute_result"
    }
   ],
   "source": [
    "metrics.precision_score(Y_train, Y_control, labels=[1.0, 2.0, 3.0], average=None)"
   ]
  }
 ],
 "metadata": {
  "kernelspec": {
   "display_name": "Python 3",
   "language": "python",
   "name": "python3"
  },
  "language_info": {
   "codemirror_mode": {
    "name": "ipython",
    "version": 3
   },
   "file_extension": ".py",
   "mimetype": "text/x-python",
   "name": "python",
   "nbconvert_exporter": "python",
   "pygments_lexer": "ipython3",
   "version": "3.12.0"
  }
 },
 "nbformat": 4,
 "nbformat_minor": 2
}
