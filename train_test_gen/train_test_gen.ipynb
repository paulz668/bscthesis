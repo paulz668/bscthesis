{
 "cells": [
  {
   "cell_type": "code",
   "execution_count": 1,
   "id": "9b350267-ec68-43e6-8ef4-219639be259b",
   "metadata": {},
   "outputs": [],
   "source": [
    "import pandas as pd\n",
    "import os"
   ]
  },
  {
   "cell_type": "code",
   "execution_count": 48,
   "id": "610e854c-e0de-48fb-b50d-33b07f812496",
   "metadata": {},
   "outputs": [],
   "source": [
    "cwd = \"C:/Users/paulz/Documents/UNI/BBE/7.Semester/Bachelorarbeit/LOB_DATA/3.NoAuction_DecPre\""
   ]
  },
  {
   "cell_type": "code",
   "execution_count": 49,
   "id": "d7f953b4-87d5-4c67-b7bd-93da6c66eeac",
   "metadata": {},
   "outputs": [],
   "source": [
    "name_list = list()\n",
    "for root, dirs, files in os.walk(cwd):\n",
    "    for name in files:\n",
    "        name_list.append(name)"
   ]
  },
  {
   "cell_type": "code",
   "execution_count": 50,
   "id": "a4ab9c0e-85ca-4024-9350-022253e7ded7",
   "metadata": {},
   "outputs": [],
   "source": [
    "for i in range(10):\n",
    "    df_features = pd.read_csv(cwd + \"/\" + name_list[2 * i], index_col = 0)\n",
    "    df_labels = pd.read_csv(cwd + \"/\" + name_list[2 * i + 1], index_col = 0)\n",
    "    df_labels = df_labels[[\"1_stbml\", \"2_stbml\", \"3_stbml\", \"5_stbml\", \"10_stbml\"]]\n",
    "    df_fl = pd.concat([df_features, df_labels], axis=1, ignore_index=True)\n",
    "    df_fl.to_csv(cwd + \"/\" + name_list[2 * i][:-13] + \".csv\", header=False, index=False)\n",
    "    "
   ]
  }
 ],
 "metadata": {
  "kernelspec": {
   "display_name": "Python 3 (ipykernel)",
   "language": "python",
   "name": "python3"
  },
  "language_info": {
   "codemirror_mode": {
    "name": "ipython",
    "version": 3
   },
   "file_extension": ".py",
   "mimetype": "text/x-python",
   "name": "python",
   "nbconvert_exporter": "python",
   "pygments_lexer": "ipython3",
   "version": "3.9.12"
  }
 },
 "nbformat": 4,
 "nbformat_minor": 5
}
